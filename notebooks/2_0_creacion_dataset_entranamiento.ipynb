{
 "cells": [
  {
   "cell_type": "markdown",
   "metadata": {},
   "source": [
    "# Creación del Data Set de entranamiento\n",
    "\n",
    "En este punto, tenemos nuestras imagenes redimensionadas. El conjunto de imagenes dentro de la carpeta `Red` contiene las images que se encuentran en buen estado y redimensionadas. A partir de este set generamos un set artifical para entrenar nuestra inteligencia artificial. \n",
    "\n",
    "Los principales defectos que vamos a corregir con nuestra red neuronal son los siguientes:\n",
    "- Manchas de tinta y oxido\n",
    "- Impresiones dobles o sobrepuestas en algunas páginas\n",
    "- Desenfoque en zonas de las páginas\n",
    "- Zonas donde la tinta se estaba desvaneciendo\n",
    "- Manchas de sello \n",
    "- Defectos por el paso del tiempo\n",
    "\n",
    "El proceso que seguiremos para generar nuestro set sera:\n",
    "- Divir el total de imágenes 5 subgrupos\n",
    "- A cada uno de estos 5 grupos se le agregara un tipo de defecto\n",
    "    - Manchas de tintas\n",
    "    - Impresiones dobles o sobrepuestas\n",
    "    - Zonas donde la tinta se esta desvaneciendo\n",
    "    - Manchas de sello\n",
    "    - Defectos por el paso del tiempo\n",
    "- Posteriormente a todas se les agregará desenfoque. \n",
    "-----"
   ]
  },
  {
   "cell_type": "code",
   "execution_count": 11,
   "metadata": {},
   "outputs": [
    {
     "name": "stdout",
     "output_type": "stream",
     "text": [
      "The autoreload extension is already loaded. To reload it, use:\n",
      "  %reload_ext autoreload\n"
     ]
    }
   ],
   "source": [
    "%load_ext autoreload\n",
    "%autoreload 2\n",
    "\n",
    "from pathlib import Path\n",
    "import sys\n",
    "import random\n",
    "\n",
    "CURRENT_DIR = Path('.').resolve()\n",
    "MODULES_DIR = CURRENT_DIR.parent.joinpath('src')\n",
    "sys.path.append(str(MODULES_DIR))\n",
    "DATA_DIR = CURRENT_DIR.parent.joinpath('data')\n",
    "DATA_RED = DATA_DIR.joinpath('Process','Red')"
   ]
  },
  {
   "cell_type": "code",
   "execution_count": 27,
   "metadata": {},
   "outputs": [],
   "source": [
    "files = sorted([f for f in DATA_RED.iterdir() if f.is_file()])\n",
    "tamano = int(len(files)/5)\n",
    "files_copia = files.copy()\n",
    "nombres = ['manchas', 'impresiones', 'tinta', 'sellos', 'tiempo']\n",
    "sublistas_nombres = {nombre: [] for nombre in nombres}"
   ]
  },
  {
   "cell_type": "code",
   "execution_count": 29,
   "metadata": {},
   "outputs": [],
   "source": [
    "for nombre in nombres:\n",
    "    sublistas_nombres[nombre] = random.sample(files_copia, tamano)\n",
    "    for elemento in sublistas_nombres[nombre]:\n",
    "        files_copia.remove(elemento)"
   ]
  },
  {
   "cell_type": "markdown",
   "metadata": {},
   "source": [
    "Ya que tenemos las listas aleatorias, vamos a crear las carpetas y despues mover los archivos"
   ]
  },
  {
   "cell_type": "code",
   "execution_count": 44,
   "metadata": {},
   "outputs": [
    {
     "name": "stdout",
     "output_type": "stream",
     "text": [
      "Carpeta creada exitosamente en: /home/dionicio/Documents/Restauracion-NN/data/Process/Red/manchas\n",
      "Carpeta creada exitosamente en: /home/dionicio/Documents/Restauracion-NN/data/Process/Red/impresiones\n",
      "Carpeta creada exitosamente en: /home/dionicio/Documents/Restauracion-NN/data/Process/Red/tinta\n",
      "Carpeta creada exitosamente en: /home/dionicio/Documents/Restauracion-NN/data/Process/Red/sellos\n",
      "Carpeta creada exitosamente en: /home/dionicio/Documents/Restauracion-NN/data/Process/Red/tiempo\n"
     ]
    },
    {
     "data": {
      "text/plain": [
       "0"
      ]
     },
     "execution_count": 44,
     "metadata": {},
     "output_type": "execute_result"
    }
   ],
   "source": [
    "import load_and_data\n",
    "\n",
    "load_and_data.creacion_carpetas(nombres, DATA_RED)"
   ]
  },
  {
   "cell_type": "markdown",
   "metadata": {},
   "source": [
    "Procedemos a mover los archivos"
   ]
  },
  {
   "cell_type": "code",
   "execution_count": 52,
   "metadata": {},
   "outputs": [],
   "source": [
    "for nombre in nombres:\n",
    "    for elemento in sublistas_nombres[nombre]:\n",
    "        nueva_ruta = elemento.parent.joinpath(nombre,elemento.name)\n",
    "        elemento.rename(nueva_ruta)        "
   ]
  },
  {
   "cell_type": "markdown",
   "metadata": {},
   "source": [
    "Contamos ahora con 5 carpetas, cada una con 381 elementos, los cuales vamos a generarle defectos de forma aleatoria\n",
    "![carpetas](https://i.imgur.com/V90wwaZ.png)"
   ]
  }
 ],
 "metadata": {
  "kernelspec": {
   "display_name": "neural-network",
   "language": "python",
   "name": "python3"
  },
  "language_info": {
   "codemirror_mode": {
    "name": "ipython",
    "version": 3
   },
   "file_extension": ".py",
   "mimetype": "text/x-python",
   "name": "python",
   "nbconvert_exporter": "python",
   "pygments_lexer": "ipython3",
   "version": "3.11.3"
  },
  "orig_nbformat": 4
 },
 "nbformat": 4,
 "nbformat_minor": 2
}
